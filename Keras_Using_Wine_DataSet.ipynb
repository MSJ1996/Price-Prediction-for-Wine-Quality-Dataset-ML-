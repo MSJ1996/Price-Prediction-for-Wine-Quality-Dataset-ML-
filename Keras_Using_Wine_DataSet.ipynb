{
  "nbformat": 4,
  "nbformat_minor": 0,
  "metadata": {
    "colab": {
      "name": "Keras Using Wine DataSet.ipynb",
      "provenance": [],
      "collapsed_sections": []
    },
    "kernelspec": {
      "name": "python3",
      "display_name": "Python 3"
    }
  },
  "cells": [
    {
      "cell_type": "markdown",
      "metadata": {
        "id": "38-rcfiSVkvk"
      },
      "source": [
        "   "
      ]
    },
    {
      "cell_type": "code",
      "metadata": {
        "id": "EvsmAxDHVmYk"
      },
      "source": [
        "from __future__ import absolute_import\n",
        "from __future__ import division\n",
        "from __future__ import print_function"
      ],
      "execution_count": null,
      "outputs": []
    },
    {
      "cell_type": "code",
      "metadata": {
        "id": "LcsnpJDidsJ7",
        "outputId": "867ea3ec-80f8-4ce7-db67-c3cda7cc89f5",
        "colab": {
          "base_uri": "https://localhost:8080/",
          "height": 85
        }
      },
      "source": [
        "# Install the latest version of Tensorflow\n",
        "!pip install -q -U tensorflow==1.7.0"
      ],
      "execution_count": null,
      "outputs": [
        {
          "output_type": "stream",
          "text": [
            "\u001b[K     |████████████████████████████████| 48.0MB 80kB/s \n",
            "\u001b[K     |████████████████████████████████| 3.1MB 33.7MB/s \n",
            "\u001b[K     |████████████████████████████████| 890kB 26.4MB/s \n",
            "\u001b[?25h  Building wheel for html5lib (setup.py) ... \u001b[?25l\u001b[?25hdone\n"
          ],
          "name": "stdout"
        }
      ]
    },
    {
      "cell_type": "code",
      "metadata": {
        "id": "QeCW3YfOd-Tw",
        "outputId": "e9e2f3df-6ced-4e49-a605-bde9e31f9800",
        "colab": {
          "base_uri": "https://localhost:8080/",
          "height": 34
        }
      },
      "source": [
        "import itertools\n",
        "import os\n",
        "import math\n",
        "import numpy as np\n",
        "import pandas as pd\n",
        "import tensorflow as tf\n",
        "\n",
        "from sklearn.preprocessing import LabelEncoder\n",
        "from tensorflow import keras\n",
        "layers = keras.layers\n",
        "\n",
        "# This code was tested with Tensorflow v1.7\n",
        "print(\"You have Tensorflow version\", tf.__version__)"
      ],
      "execution_count": null,
      "outputs": [
        {
          "output_type": "stream",
          "text": [
            "You have Tensorflow version 1.7.0\n"
          ],
          "name": "stdout"
        }
      ]
    },
    {
      "cell_type": "code",
      "metadata": {
        "id": "jWs8nXuYk0NV",
        "outputId": "0a944bdf-b139-4c04-b3bc-39f81aa9087c",
        "colab": {
          "base_uri": "https://localhost:8080/",
          "height": 102
        }
      },
      "source": [
        "!pip install pandas"
      ],
      "execution_count": null,
      "outputs": [
        {
          "output_type": "stream",
          "text": [
            "Requirement already satisfied: pandas in /usr/local/lib/python3.6/dist-packages (1.0.5)\n",
            "Requirement already satisfied: numpy>=1.13.3 in /usr/local/lib/python3.6/dist-packages (from pandas) (1.18.5)\n",
            "Requirement already satisfied: python-dateutil>=2.6.1 in /usr/local/lib/python3.6/dist-packages (from pandas) (2.8.1)\n",
            "Requirement already satisfied: pytz>=2017.2 in /usr/local/lib/python3.6/dist-packages (from pandas) (2018.9)\n",
            "Requirement already satisfied: six>=1.5 in /usr/local/lib/python3.6/dist-packages (from python-dateutil>=2.6.1->pandas) (1.15.0)\n"
          ],
          "name": "stdout"
        }
      ]
    },
    {
      "cell_type": "code",
      "metadata": {
        "id": "vdHa9KxIg6_6",
        "outputId": "cfb7687c-9a4c-4d42-863d-85bd2b95cb4d",
        "colab": {
          "base_uri": "https://localhost:8080/",
          "height": 51
        }
      },
      "source": [
        "# Get the data: original source is here: https://www.kaggle.com/zynicide/wine-reviews/data\n",
        "URL = \"https://storage.googleapis.com/sara-cloud-ml/wine_data.csv\"\n",
        "path = tf.keras.utils.get_file(URL.split('/')[-1], URL)"
      ],
      "execution_count": null,
      "outputs": [
        {
          "output_type": "stream",
          "text": [
            "Downloading data from https://storage.googleapis.com/sara-cloud-ml/wine_data.csv\n",
            "49790976/49783940 [==============================] - 1s 0us/step\n"
          ],
          "name": "stdout"
        }
      ]
    },
    {
      "cell_type": "code",
      "metadata": {
        "id": "G50d8zlRhKQn"
      },
      "source": [
        "# Convert the data to a Pandas data frame\n",
        "data = pd.read_csv(path)"
      ],
      "execution_count": null,
      "outputs": []
    },
    {
      "cell_type": "code",
      "metadata": {
        "id": "eCJvGTDVhhjv",
        "outputId": "b472e0ab-7de7-4c89-dae2-4a04f57df322",
        "colab": {
          "base_uri": "https://localhost:8080/",
          "height": 306
        }
      },
      "source": [
        "# Shuffle the data\n",
        "data = data.sample(frac=1)\n",
        "\n",
        "# Print the first 5 rows\n",
        "data.head()"
      ],
      "execution_count": null,
      "outputs": [
        {
          "output_type": "execute_result",
          "data": {
            "text/html": [
              "<div>\n",
              "<style scoped>\n",
              "    .dataframe tbody tr th:only-of-type {\n",
              "        vertical-align: middle;\n",
              "    }\n",
              "\n",
              "    .dataframe tbody tr th {\n",
              "        vertical-align: top;\n",
              "    }\n",
              "\n",
              "    .dataframe thead th {\n",
              "        text-align: right;\n",
              "    }\n",
              "</style>\n",
              "<table border=\"1\" class=\"dataframe\">\n",
              "  <thead>\n",
              "    <tr style=\"text-align: right;\">\n",
              "      <th></th>\n",
              "      <th>Unnamed: 0</th>\n",
              "      <th>country</th>\n",
              "      <th>description</th>\n",
              "      <th>designation</th>\n",
              "      <th>points</th>\n",
              "      <th>price</th>\n",
              "      <th>province</th>\n",
              "      <th>region_1</th>\n",
              "      <th>region_2</th>\n",
              "      <th>variety</th>\n",
              "      <th>winery</th>\n",
              "    </tr>\n",
              "  </thead>\n",
              "  <tbody>\n",
              "    <tr>\n",
              "      <th>80186</th>\n",
              "      <td>80186</td>\n",
              "      <td>Italy</td>\n",
              "      <td>Centine is an easy, well-priced white wine fro...</td>\n",
              "      <td>Centine</td>\n",
              "      <td>86</td>\n",
              "      <td>11.0</td>\n",
              "      <td>Tuscany</td>\n",
              "      <td>Toscana</td>\n",
              "      <td>NaN</td>\n",
              "      <td>White Blend</td>\n",
              "      <td>Banfi</td>\n",
              "    </tr>\n",
              "    <tr>\n",
              "      <th>142921</th>\n",
              "      <td>142921</td>\n",
              "      <td>US</td>\n",
              "      <td>Clearly stands above the competition for its e...</td>\n",
              "      <td>Reserve Pagani Vineyard</td>\n",
              "      <td>93</td>\n",
              "      <td>45.0</td>\n",
              "      <td>California</td>\n",
              "      <td>Sonoma Valley</td>\n",
              "      <td>Sonoma</td>\n",
              "      <td>Zinfandel</td>\n",
              "      <td>St. Francis</td>\n",
              "    </tr>\n",
              "    <tr>\n",
              "      <th>64952</th>\n",
              "      <td>64952</td>\n",
              "      <td>Italy</td>\n",
              "      <td>This wine seems hotter than it actually is at ...</td>\n",
              "      <td>NaN</td>\n",
              "      <td>85</td>\n",
              "      <td>9.0</td>\n",
              "      <td>Northeastern Italy</td>\n",
              "      <td>Alto Adige</td>\n",
              "      <td>NaN</td>\n",
              "      <td>Pinot Grigio</td>\n",
              "      <td>Josef Weger</td>\n",
              "    </tr>\n",
              "    <tr>\n",
              "      <th>137398</th>\n",
              "      <td>137398</td>\n",
              "      <td>Austria</td>\n",
              "      <td>A highly perfumed wine from old vines, aged fo...</td>\n",
              "      <td>Dürrau Cuvée</td>\n",
              "      <td>94</td>\n",
              "      <td>NaN</td>\n",
              "      <td>Burgenland</td>\n",
              "      <td>NaN</td>\n",
              "      <td>NaN</td>\n",
              "      <td>Blaufränkisch</td>\n",
              "      <td>Weninger</td>\n",
              "    </tr>\n",
              "    <tr>\n",
              "      <th>2371</th>\n",
              "      <td>2371</td>\n",
              "      <td>US</td>\n",
              "      <td>Minty cedar and red raspberry jam provide a fr...</td>\n",
              "      <td>Old Vine Reserve</td>\n",
              "      <td>90</td>\n",
              "      <td>38.0</td>\n",
              "      <td>California</td>\n",
              "      <td>Dry Creek Valley</td>\n",
              "      <td>Sonoma</td>\n",
              "      <td>Zinfandel</td>\n",
              "      <td>Flinch</td>\n",
              "    </tr>\n",
              "  </tbody>\n",
              "</table>\n",
              "</div>"
            ],
            "text/plain": [
              "        Unnamed: 0  country  ...        variety       winery\n",
              "80186        80186    Italy  ...    White Blend        Banfi\n",
              "142921      142921       US  ...      Zinfandel  St. Francis\n",
              "64952        64952    Italy  ...   Pinot Grigio  Josef Weger\n",
              "137398      137398  Austria  ...  Blaufränkisch     Weninger\n",
              "2371          2371       US  ...      Zinfandel       Flinch\n",
              "\n",
              "[5 rows x 11 columns]"
            ]
          },
          "metadata": {
            "tags": []
          },
          "execution_count": 15
        }
      ]
    },
    {
      "cell_type": "code",
      "metadata": {
        "id": "nDUsIZ-vh5EX"
      },
      "source": [
        "# Do some preprocessing to limits the # of wine varities in the dataset\n",
        "data = data[pd.notnull(data['country'])]\n",
        "data = data[pd.notnull(data['price'])]\n",
        "data = data.drop(data.columns[0], axis=1)\n",
        "\n",
        "variety_threshold = 500 # Anything that occurs less than this will be removed.\n",
        "value_counts = data['variety'].value_counts()\n",
        "to_remove = value_counts[value_counts <= variety_threshold].index\n",
        "data.replace(to_remove, np.nan, inplace=True)\n",
        "data = data[pd.notnull(data['variety'])]"
      ],
      "execution_count": null,
      "outputs": []
    },
    {
      "cell_type": "code",
      "metadata": {
        "id": "rYvRL1u7jxAo",
        "outputId": "6eb6ce35-aab6-440d-bedc-c8dec204d076",
        "colab": {
          "base_uri": "https://localhost:8080/",
          "height": 51
        }
      },
      "source": [
        "# Split data into train and test\n",
        "train_size = int(len(data) * .8)\n",
        "print (\"Train size: %d\" % train_size)\n",
        "print (\"Test size: %d\" % (len(data) - train_size))"
      ],
      "execution_count": null,
      "outputs": [
        {
          "output_type": "stream",
          "text": [
            "Train size: 95646\n",
            "Test size: 23912\n"
          ],
          "name": "stdout"
        }
      ]
    },
    {
      "cell_type": "code",
      "metadata": {
        "id": "dxX6ZSVCl7vy"
      },
      "source": [
        "# Train feautures\n",
        "description_train = data['description'][:train_size]\n",
        "variety_train = data['variety'][:train_size]\n",
        "\n",
        "# Train  labels\n",
        "labels_train = data['price'][:train_size]\n",
        "\n",
        "# Test features\n",
        "description_test = data['description'][train_size:]\n",
        "variety_test = data['variety'][train_size:]\n",
        "\n",
        "# Test labels\n",
        "labels_test = data['price'][train_size:]"
      ],
      "execution_count": null,
      "outputs": []
    },
    {
      "cell_type": "code",
      "metadata": {
        "id": "pu56tPUemdIL"
      },
      "source": [
        "# Create a tokenizer to preprocess our text description\n",
        "vocab_size = 12000 # This is a hyperparameter, experiments with different values of your dataset\n",
        "tokensize = keras.preprocessing.text.Tokenizer(num_words=vocab_size, char_level = False)\n",
        "tokensize.fit_on_texts(description_train) # only fit on train"
      ],
      "execution_count": null,
      "outputs": []
    },
    {
      "cell_type": "code",
      "metadata": {
        "id": "Fq2GtGQQocZB"
      },
      "source": [
        "# wide features 1: sparse bag of words (bow) vocab_size vector\n",
        "description_bow_train = tokensize.texts_to_matrix(description_train)\n",
        "description_bow_test = tokensize.texts_to_matrix(description_test)"
      ],
      "execution_count": null,
      "outputs": []
    },
    {
      "cell_type": "code",
      "metadata": {
        "id": "_QTK4F-tpaVd"
      },
      "source": [
        "# Wide features 2: one-hot vector of variety categories\n",
        "\n",
        "#Use sklern utility to convert label string to numbered index\n",
        "encoder = LabelEncoder()\n",
        "encoder.fit(variety_train)\n",
        "variety_train = encoder.transform(variety_train)\n",
        "variety_test = encoder.transform(variety_test)\n",
        "num_classes = np.max(variety_train) + 1\n",
        "\n",
        "# Convert labels to one hot\n",
        "variety_train = keras.utils.to_categorical(variety_train, num_classes)\n",
        "variety_test = keras.utils.to_categorical(variety_test, num_classes)"
      ],
      "execution_count": null,
      "outputs": []
    },
    {
      "cell_type": "code",
      "metadata": {
        "id": "GxhN7FXwq7T2"
      },
      "source": [
        "# Define our wide model with the functional API\n",
        "bow_inputs = layers.Input(shape=(vocab_size,))\n",
        "variety_inputs = layers.Input(shape=(num_classes,))\n",
        "merged_layer = layers.concatenate([bow_inputs, variety_inputs])\n",
        "merged_layer = layers.Dense(256, activation='relu')(merged_layer)\n",
        "predictions = layers.Dense(1)(merged_layer)\n",
        "wide_model = keras.Model(inputs=[bow_inputs, variety_inputs], outputs=predictions)\n"
      ],
      "execution_count": null,
      "outputs": []
    },
    {
      "cell_type": "code",
      "metadata": {
        "id": "SrQGQHQXs3za",
        "outputId": "137eb449-02aa-44c8-e9f2-b0fe03f8ca5d",
        "colab": {
          "base_uri": "https://localhost:8080/",
          "height": 340
        }
      },
      "source": [
        "wide_model.compile(loss='mse', optimizer= 'adam', metrics=['accuracy'])\n",
        "print(wide_model.summary())"
      ],
      "execution_count": null,
      "outputs": [
        {
          "output_type": "stream",
          "text": [
            "__________________________________________________________________________________________________\n",
            "Layer (type)                    Output Shape         Param #     Connected to                     \n",
            "==================================================================================================\n",
            "input_2 (InputLayer)            (None, 12000)        0                                            \n",
            "__________________________________________________________________________________________________\n",
            "input_3 (InputLayer)            (None, 40)           0                                            \n",
            "__________________________________________________________________________________________________\n",
            "concatenate_1 (Concatenate)     (None, 12040)        0           input_2[0][0]                    \n",
            "                                                                 input_3[0][0]                    \n",
            "__________________________________________________________________________________________________\n",
            "dense_1 (Dense)                 (None, 256)          3082496     concatenate_1[0][0]              \n",
            "__________________________________________________________________________________________________\n",
            "dense_2 (Dense)                 (None, 1)            257         dense_1[0][0]                    \n",
            "==================================================================================================\n",
            "Total params: 3,082,753\n",
            "Trainable params: 3,082,753\n",
            "Non-trainable params: 0\n",
            "__________________________________________________________________________________________________\n",
            "None\n"
          ],
          "name": "stdout"
        }
      ]
    },
    {
      "cell_type": "code",
      "metadata": {
        "id": "GbK6_AW3uF2m"
      },
      "source": [
        "# Deep Model features: word embedding of wine descriptions\n",
        "train_embed = tokensize.texts_to_sequences(description_train)\n",
        "test_embed = tokensize.texts_to_sequences(description_test)\n",
        "\n",
        "max_seq_length = 170\n",
        "train_embed = keras.preprocessing.sequence.pad_sequences(train_embed, maxlen=max_seq_length, padding=\"post\")\n",
        "test_embed = keras.preprocessing.sequence.pad_sequences(test_embed, maxlen=max_seq_length, padding=\"post\")"
      ],
      "execution_count": null,
      "outputs": []
    },
    {
      "cell_type": "code",
      "metadata": {
        "id": "UaJyfgWjvktn",
        "outputId": "8061f0e3-b819-4cf0-d7eb-9d9f695aa06d",
        "colab": {
          "base_uri": "https://localhost:8080/",
          "height": 289
        }
      },
      "source": [
        "# Define our deep model with the Functional API\n",
        "deep_inputs = layers.Input(shape=(max_seq_length,))\n",
        "embedding = layers.Embedding(vocab_size, 8, input_length=max_seq_length)(deep_inputs)\n",
        "embedding = layers.Flatten()(embedding)\n",
        "embed_out = layers.Dense(1)(embedding)\n",
        "deep_model = keras.Model(inputs=deep_inputs, outputs=embed_out)\n",
        "print(deep_model.summary())"
      ],
      "execution_count": null,
      "outputs": [
        {
          "output_type": "stream",
          "text": [
            "_________________________________________________________________\n",
            "Layer (type)                 Output Shape              Param #   \n",
            "=================================================================\n",
            "input_5 (InputLayer)         (None, 170)               0         \n",
            "_________________________________________________________________\n",
            "embedding_2 (Embedding)      (None, 170, 8)            96000     \n",
            "_________________________________________________________________\n",
            "flatten_2 (Flatten)          (None, 1360)              0         \n",
            "_________________________________________________________________\n",
            "dense_4 (Dense)              (None, 1)                 1361      \n",
            "=================================================================\n",
            "Total params: 97,361\n",
            "Trainable params: 97,361\n",
            "Non-trainable params: 0\n",
            "_________________________________________________________________\n",
            "None\n"
          ],
          "name": "stdout"
        }
      ]
    },
    {
      "cell_type": "code",
      "metadata": {
        "id": "SpWaqhPRxCcK"
      },
      "source": [
        "deep_model.compile(loss='mse',\n",
        "                   optimizer = 'adam',\n",
        "                   mertrics=['accuracy'])"
      ],
      "execution_count": null,
      "outputs": []
    },
    {
      "cell_type": "code",
      "metadata": {
        "id": "Y-tdafuaxYmV",
        "outputId": "edd7e946-563c-4b04-912c-4fe977418e03",
        "colab": {
          "base_uri": "https://localhost:8080/",
          "height": 561
        }
      },
      "source": [
        "# Combine wide and deep into one model\n",
        "merged_out = layers.concatenate([wide_model.output, deep_model.output])\n",
        "merged_out = layers.Dense(1)(merged_out)\n",
        "combined_model = keras.Model(wide_model.input + [deep_model.input], merged_out)\n",
        "print(combined_model.summary())\n",
        "\n",
        "combined_model.compile(loss = 'mse',\n",
        "                       optimizer='adam',\n",
        "                       metrics=['accuracy'])"
      ],
      "execution_count": null,
      "outputs": [
        {
          "output_type": "stream",
          "text": [
            "__________________________________________________________________________________________________\n",
            "Layer (type)                    Output Shape         Param #     Connected to                     \n",
            "==================================================================================================\n",
            "input_2 (InputLayer)            (None, 12000)        0                                            \n",
            "__________________________________________________________________________________________________\n",
            "input_3 (InputLayer)            (None, 40)           0                                            \n",
            "__________________________________________________________________________________________________\n",
            "input_5 (InputLayer)            (None, 170)          0                                            \n",
            "__________________________________________________________________________________________________\n",
            "concatenate_1 (Concatenate)     (None, 12040)        0           input_2[0][0]                    \n",
            "                                                                 input_3[0][0]                    \n",
            "__________________________________________________________________________________________________\n",
            "embedding_2 (Embedding)         (None, 170, 8)       96000       input_5[0][0]                    \n",
            "__________________________________________________________________________________________________\n",
            "dense_1 (Dense)                 (None, 256)          3082496     concatenate_1[0][0]              \n",
            "__________________________________________________________________________________________________\n",
            "flatten_2 (Flatten)             (None, 1360)         0           embedding_2[0][0]                \n",
            "__________________________________________________________________________________________________\n",
            "dense_2 (Dense)                 (None, 1)            257         dense_1[0][0]                    \n",
            "__________________________________________________________________________________________________\n",
            "dense_4 (Dense)                 (None, 1)            1361        flatten_2[0][0]                  \n",
            "__________________________________________________________________________________________________\n",
            "concatenate_3 (Concatenate)     (None, 2)            0           dense_2[0][0]                    \n",
            "                                                                 dense_4[0][0]                    \n",
            "__________________________________________________________________________________________________\n",
            "dense_6 (Dense)                 (None, 1)            3           concatenate_3[0][0]              \n",
            "==================================================================================================\n",
            "Total params: 3,180,117\n",
            "Trainable params: 3,180,117\n",
            "Non-trainable params: 0\n",
            "__________________________________________________________________________________________________\n",
            "None\n"
          ],
          "name": "stdout"
        }
      ]
    },
    {
      "cell_type": "code",
      "metadata": {
        "id": "EzLmasE5yQw1",
        "outputId": "7c005740-2871-4c39-daa2-e619a9a29570",
        "colab": {
          "base_uri": "https://localhost:8080/",
          "height": 374
        }
      },
      "source": [
        "# Run training\n",
        "combined_model.fit([description_bow_train, variety_train] + [train_embed], labels_train, epochs=10, batch_size=128)"
      ],
      "execution_count": null,
      "outputs": [
        {
          "output_type": "stream",
          "text": [
            "Epoch 1/10\n",
            "95646/95646 [==============================] - 112s 1ms/step - loss: 1169.6674 - acc: 0.0285\n",
            "Epoch 2/10\n",
            "95646/95646 [==============================] - 96s 1ms/step - loss: 916.7097 - acc: 0.0383\n",
            "Epoch 3/10\n",
            "95646/95646 [==============================] - 96s 1ms/step - loss: 783.6012 - acc: 0.0409\n",
            "Epoch 4/10\n",
            "95646/95646 [==============================] - 104s 1ms/step - loss: 663.3886 - acc: 0.0446\n",
            "Epoch 5/10\n",
            "95646/95646 [==============================] - 98s 1ms/step - loss: 553.9034 - acc: 0.0500\n",
            "Epoch 6/10\n",
            "95646/95646 [==============================] - 97s 1ms/step - loss: 448.4023 - acc: 0.0566\n",
            "Epoch 7/10\n",
            "95646/95646 [==============================] - 103s 1ms/step - loss: 352.5903 - acc: 0.0645\n",
            "Epoch 8/10\n",
            "95646/95646 [==============================] - 105s 1ms/step - loss: 274.6914 - acc: 0.0750\n",
            "Epoch 9/10\n",
            "95646/95646 [==============================] - 101s 1ms/step - loss: 209.7492 - acc: 0.0853\n",
            "Epoch 10/10\n",
            "95646/95646 [==============================] - 102s 1ms/step - loss: 160.0162 - acc: 0.0954\n"
          ],
          "name": "stdout"
        },
        {
          "output_type": "execute_result",
          "data": {
            "text/plain": [
              "<tensorflow.python.keras._impl.keras.callbacks.History at 0x7f57f7c0ecc0>"
            ]
          },
          "metadata": {
            "tags": []
          },
          "execution_count": 37
        }
      ]
    },
    {
      "cell_type": "code",
      "metadata": {
        "id": "Y_dXryPWy8p1",
        "outputId": "14d8351a-f382-4c6e-fced-aeb018c15288",
        "colab": {
          "base_uri": "https://localhost:8080/",
          "height": 51
        }
      },
      "source": [
        "combined_model.evaluate([description_bow_test, variety_test] + [test_embed], labels_test, batch_size=128)"
      ],
      "execution_count": null,
      "outputs": [
        {
          "output_type": "stream",
          "text": [
            "23912/23912 [==============================] - 8s 349us/step\n"
          ],
          "name": "stdout"
        },
        {
          "output_type": "execute_result",
          "data": {
            "text/plain": [
              "[540.7186602135891, 0.0637336902036221]"
            ]
          },
          "metadata": {
            "tags": []
          },
          "execution_count": 38
        }
      ]
    },
    {
      "cell_type": "code",
      "metadata": {
        "id": "DlIm6eVXzRIB"
      },
      "source": [
        "# generate predictions\n",
        "predictions = combined_model.predict([description_bow_test, variety_test] + [test_embed])"
      ],
      "execution_count": null,
      "outputs": []
    },
    {
      "cell_type": "code",
      "metadata": {
        "id": "bA86yXlbzjwU",
        "outputId": "1f25e1bf-dd89-4f32-c3dc-77456ec25335",
        "colab": {
          "base_uri": "https://localhost:8080/",
          "height": 1000
        }
      },
      "source": [
        "# Compare prediction with actual values for the first few items in our test dataset\n",
        "num_predictions = 40\n",
        "diff = 0\n",
        "\n",
        "for i in range(num_predictions):\n",
        "  val = predictions[i]\n",
        "  print(description_test.iloc[i])\n",
        "  print('Predicted: ', val[0], 'Actual: ', labels_test.iloc[i], '\\n')\n",
        "  diff += abs(val[0] - labels_test.iloc[i])"
      ],
      "execution_count": null,
      "outputs": [
        {
          "output_type": "stream",
          "text": [
            "This refreshing red offers black cherry and pepper on the nose and on the palate, a clean array of red berry, spice and cedar. Its dry style will pair well with food—think poultry or duck.\n",
            "Predicted:  18.395033 Actual:  17.0 \n",
            "\n",
            "This wine's pungent bouquet comes close to resembling ammonia in its sweatry intensity, yet it rounds out surprisingly well on the palate, where melon fruit and a touch of sweetness emerges. Drink up.\n",
            "Predicted:  10.944654 Actual:  14.0 \n",
            "\n",
            "This Pinot Grigio from Trentino—part of which is barrel aged—offers aromas of pear, apple, oak and flint. The linear palate delivers restrained lemon peel, apple and oak sensations in a lean but elegant style.\n",
            "Predicted:  21.576347 Actual:  22.0 \n",
            "\n",
            "This simple Chardonnay is soft and sweet, with some vanilla oaky notes. It's made in the popular style.\n",
            "Predicted:  15.181451 Actual:  12.0 \n",
            "\n",
            "Begins with bold mint and prune aromas, and it's also sort of foxy and sweaty. The palate is better, with saucy, tart fruit that leans toward tomato, herbs and dry berry fruit. Solid and round enough; decent with a few faults.\n",
            "Predicted:  14.234957 Actual:  15.0 \n",
            "\n",
            "Bright pear, peach, pineapple, ginger snap and floral notes grace a fresh, fragrant nose. The palate's exotic tropical fruit, ginger and lychee nut flavors mingle beautifully in a medium-full, though perhaps slightly sweet, package. Elegant and appealingly fresh.\n",
            "Predicted:  48.317356 Actual:  35.0 \n",
            "\n",
            "Unusual in that this cava hails from the Ribera del Duero region, where red wines are 99.9% of the show. For a no-dosage nature, it's properly crisp and dry, almost like a liquid version of a soda cracker. There are some holes in the fabric but overall it's citrusy, tight and only mildly bitter on the finish.\n",
            "Predicted:  12.718618 Actual:  16.0 \n",
            "\n",
            "Dark and deep purple/black, with a Port-like nose. There's a little fizz on the palate, which seems odd in a wine this big, and the flavors are locked in tight. Flat, dry, tannic finish.\n",
            "Predicted:  24.605547 Actual:  21.0 \n",
            "\n",
            "Snappy, clean wine with hardly any obtrusive oak. Aromas and flavors of dry apple, melon and green fruits are clean, monotone in how they come across, and refreshing. In fact, structural spine and zest are the calling cards of this wine; it is pleasantly devoid of heavy tropical notes or oak.\n",
            "Predicted:  17.75217 Actual:  13.0 \n",
            "\n",
            "This is a thoroughly delicious wine, pure-blooded Syrah from three vineyards. It puts bright, clean raspberry fruit right up front, then layers in a hint of bramble and earth against a foundation of firm, fine-grained tannins. It's authoritative, substantial, straightforward and absolutely tongue-riveting, a brilliant combination of finesse, tension and balance.\n",
            "Predicted:  21.22469 Actual:  25.0 \n",
            "\n",
            "Few Cabs in the world are this ripe and balanced. It floods the mouth with flavors of cherries, red plums, licorice and mocha, along with sumptuous oak notes. It's delicious enough to drink now, but the firm tannins suggest 6–8 years of aging.\n",
            "Predicted:  53.088512 Actual:  66.0 \n",
            "\n",
            "A pale salmon color, this is all Pinot Noir, picked early for the purpose of making rosé. Quite dry and elegant, it's a juicy, acidic wine, with pretty strawberry and watermelon flavors highlighted with zesty spice.\n",
            "Predicted:  12.681641 Actual:  17.0 \n",
            "\n",
            "Lean and compact with subdued aromas of cherry and wild berry, this is an informal Rosso to drink with roast chicken or home-cooked meatloaf. The wine is smooth and rich on the palate and it offers a cleaning touch of acidity on the finish.\n",
            "Predicted:  20.98861 Actual:  23.0 \n",
            "\n",
            "Soft, ripe and chocolaty, with a raisiny quality on the bouquet. There's fading black plum and wild berry flavors; the mouthfeel is big but short on structure. Finishes with medium length and mild bitterness.\n",
            "Predicted:  26.484394 Actual:  35.0 \n",
            "\n",
            "This plush and easy expression of Syrah opens with distinct aromas of cured meat, spice, black fruit, white pepper and mature cherry. The wine is smooth and rich with a fine, soft nature of tannins.\n",
            "Predicted:  20.445684 Actual:  16.0 \n",
            "\n",
            "An unfussy nose of rapberries and grape jam leads to a crisp, juicy palate that finishes with appealing blackberry flavors. The lack of tannin makes this smooth example a good choice for pasta in a tomato sauce.\n",
            "Predicted:  22.404337 Actual:  25.0 \n",
            "\n",
            "Despite tough vintage conditions, Bodega Septima got this blend of Malbec, Cabernet and Tannat right. The nose is dark, solid and full of attractive black fruit and coconut aromas. Lush and a mile deep on the palate, with sultry, smoky, dark flavors of blackberry, licorice and spice. A chewy, rich and balanced wine; drink now through 2014.\n",
            "Predicted:  15.771304 Actual:  25.0 \n",
            "\n",
            "Smooth and rich, with ripe, spiced peach as well as a mineral edge. The acidity tightens the generous texture of this powerful wine, leaving the concentration deliciously fresh.\n",
            "Predicted:  33.72536 Actual:  34.0 \n",
            "\n",
            "Umpqua and Rogue Valley fruit lends a lush warmth to this fragrant, spicy blend. The sweet cherry and strawberry fruit has a spicy kick, like cinnamon candy, and the tannins have been smoothed over, so the finish is extended and soft.\n",
            "Predicted:  22.731108 Actual:  28.0 \n",
            "\n",
            "A very great Napa Cabernet by any standard. Defines the modern style of soft richness, with lavish flavors of blackberry tart, crème de cassis, blueberry, dark chocolate and the richest, sweetest toasty oak you can imagine. It's soft and ripe enough to drink now, yet shows a subtle structure that suggests aging for a decade. Possesses the extreme complexity and finesse that mark the greatest wines.\n",
            "Predicted:  146.74008 Actual:  150.0 \n",
            "\n",
            "A pleasant sipper, with good acids and forward flavors of passion fruit, grapefruit and figs. It has a creamy texture and a long finish.\n",
            "Predicted:  11.642964 Actual:  20.0 \n",
            "\n",
            "From a producer better known for Châteauneuf-du-Pape, this has a beautiful bouquet of crushed spices, violets, and black cherries followed by lush, deep flavors of plums, black cherries and peppery spice. It's round and mouthfilling without being overwhelming, and it's framed by soft tannins. Complexity is raised a notch on the finish via the folding in of espresso and black olive notes. Drink now–2010.\n",
            "Predicted:  34.360447 Actual:  23.0 \n",
            "\n",
            "Ferrari's Brut Perlé (made with 100% Chardonnay) offers soft, foamy perlage that enhances a sense of softness and fullness on the palate. Crisp and tonic, it drinks very well but it leaves enough body and persistency to fuel a long finish.\n",
            "Predicted:  32.490643 Actual:  32.0 \n",
            "\n",
            "This is a delicious wine with its ripe fruits and soft tannins. It has a touch of spice, as well as bright acidity along with a touch of smokiness from the wood aging. Rich and generous, it will mature quickly. Drink from 2019.\n",
            "Predicted:  57.807896 Actual:  36.0 \n",
            "\n",
            "This is a concentrated, firmly built example of Grenache, with herbal overtones to its black cherry fruit. Despite the dark plum and cherry fruit, the impression is one of tautness and freshness. Drink it with red meat now, or give it until 2017 to settle down.\n",
            "Predicted:  33.625828 Actual:  32.0 \n",
            "\n",
            "A little disappointing for a Lodge Hill Shiraz, with prominent eucalyptus notes that are slightly overbearing in the context of otherwise pleasant vanilla and berry flavors. Lacks the richness and depth needed to support all of the menthol. Drink now–2016.\n",
            "Predicted:  20.917027 Actual:  20.0 \n",
            "\n",
            "Bright plum and berry aromas are clear but basic. In the mouth, this young wine is crisp, tannic and a touch citric. Wild berry flavors dance alongside peppery spice notes, while the finish is zesty, a touch bitter and hot.\n",
            "Predicted:  26.580507 Actual:  10.0 \n",
            "\n",
            "A pretty Pinot, polished and silky and dry, with complicated flavors of sour cherry candy, raspberry tart, orange zest, pepper and smoky cedar. Drink now through 2012.\n",
            "Predicted:  35.487316 Actual:  45.0 \n",
            "\n",
            "Bishop's Peak is a sort of second label for the esteemed Central Coast winery, Talley. This Cabernet is a great buy for under twenty bucks, showing ripe, flavorful blackberries, cherries and currants, with a completely dry finish and an extra layer of sophistication.\n",
            "Predicted:  -0.50469434 Actual:  18.0 \n",
            "\n",
            "This structured wine is well balanced with fruit and acidity. Ripe fruits, a touch of wood aging and final acidity have given an elegant wine that's ready to drink.\n",
            "Predicted:  28.021122 Actual:  28.0 \n",
            "\n",
            "This is one of the top vineyards in the appellation, sought by anyone who can get the grapes. Co-owner Kathy Joseph has crafted a voluptuous, sensual Pinot that's soft, beguiling and superrich in cherry pie, smoky char and cinnamon-spicy vanilla flavors. It's the kind of Pinot everyone wants to make but usually can't.\n",
            "Predicted:  60.254505 Actual:  50.0 \n",
            "\n",
            "Flecks of flint and stone add a sleek minerality to flavors of underripe peach and apricot on Roman Roth's Long Island Riesling. It's a tad thin on the palate, but brisk lemon-lime acidity and flavors of sour plum and lemon pith on the finish are tasty.\n",
            "Predicted:  14.562318 Actual:  22.0 \n",
            "\n",
            "Feels rustic in the rough but ready tannins and slightly sweet, jammy cherry and cola flavors that are accented with smoky sandalwood. Not going anywhere, so drink up.\n",
            "Predicted:  41.650684 Actual:  39.0 \n",
            "\n",
            "It's not clear where in the valley this wine comes from, but it's a pretty exposition of Napa Sauvignon Blanc. Slightly sweet, it's strong in citrus, tropical fruit and vanilla oak flavors, balanced with crisp acidity.\n",
            "Predicted:  18.037712 Actual:  16.0 \n",
            "\n",
            "There's a textbook quality to this Zinfandel. You could use it in a teaching class as expressing the classic California attributes of the variety. It's perfectly dry, not too high in alcohol, firm in tannins, and deeply flavored in dark stone fruits and berries. And then there are the freshly crushed peppercorns, black, red, green and white. Could be the perfect barbecue wine.\n",
            "Predicted:  45.092518 Actual:  16.0 \n",
            "\n",
            "You have to love the '07 vintage. This is drinking beautifully right now, though official release (September) is still a ways off. Rich and delicious, full-bodied and aromatic, with exotic barrel scents and a lovely mélange of chocolate, mocha, caramel and spice. But the fruit is the main story, and it's full, ripe and substantial—cherry and cassis, licorice and just a hint of leaf.\n",
            "Predicted:  30.847372 Actual:  35.0 \n",
            "\n",
            "Fresh berry and plum aromas come with earth and herbal accents, which only boost the bouquet's complexity. The palate on this blend of Carignan, Garnacha and Syrah is structured and tight, with earthy, lightly toasted flavors of black cherry and plum. Spice, cocoa and oaky dryness define the finish. Drink through 2016.\n",
            "Predicted:  22.504404 Actual:  17.0 \n",
            "\n",
            "Here's a great value for a Sierra Foothills Zin, where you get some real mountain character. The sturdy tannins buck up wild berry flavors laced with coffee and herbs, and while the wine is bone dry, it finishes with ripe sweetness.\n",
            "Predicted:  14.820402 Actual:  10.0 \n",
            "\n",
            "Tedeschi's base Amarone made with grapes from various vineyards is distinctive, unique and extremely succulent. The wine boasts chewy cherries, milky chocolate, natural rubber, raisin, pine, tar, maple syrup and black stone. In fact, there is no Amarone quite like it,  especially considering the immediate, incredibly intense rush of aromas that it offers.\n",
            "Predicted:  46.388992 Actual:  50.0 \n",
            "\n",
            "A strong effort from Olsen Estates, this 100% Syrah has fine varietal character, in a rough and tumble style. Cured meats, herbs, earth and hints of sea salt mingle with the wild berry fruit flavors. It's balanced and fresh, with lingering and nuanced flavors threading through the gulpable finish.\n",
            "Predicted:  26.104593 Actual:  29.0 \n",
            "\n"
          ],
          "name": "stdout"
        }
      ]
    },
    {
      "cell_type": "code",
      "metadata": {
        "id": "t7QTzT_R0hdw",
        "outputId": "7ecfab45-db2f-4810-ac8a-d91d760e912e",
        "colab": {
          "base_uri": "https://localhost:8080/",
          "height": 34
        }
      },
      "source": [
        "# Compare the average difference between actual price and the model's predicted price\n",
        "print('Average prediction difference: ', diff / num_predictions)"
      ],
      "execution_count": null,
      "outputs": [
        {
          "output_type": "stream",
          "text": [
            "Average prediction difference:  6.300436505675316\n"
          ],
          "name": "stdout"
        }
      ]
    }
  ]
}